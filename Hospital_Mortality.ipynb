{
 "cells": [
  {
   "cell_type": "code",
   "execution_count": 86,
   "metadata": {},
   "outputs": [],
   "source": [
    "import pandas as pd\n",
    "import numpy as np\n",
    "import statistics\n",
    "import matplotlib.pyplot as plt\n",
    "from sklearn.model_selection import train_test_split\n",
    "from sklearn.ensemble import RandomForestRegressor\n",
    "from sklearn.metrics import accuracy_score\n",
    "\n"
   ]
  },
  {
   "cell_type": "markdown",
   "metadata": {},
   "source": [
    "# Load data"
   ]
  },
  {
   "cell_type": "code",
   "execution_count": 3,
   "metadata": {},
   "outputs": [],
   "source": [
    "hospital_data = pd.read_csv('hospital_mortality.csv')"
   ]
  },
  {
   "cell_type": "code",
   "execution_count": 87,
   "metadata": {},
   "outputs": [
    {
     "data": {
      "text/html": [
       "<div>\n",
       "<style scoped>\n",
       "    .dataframe tbody tr th:only-of-type {\n",
       "        vertical-align: middle;\n",
       "    }\n",
       "\n",
       "    .dataframe tbody tr th {\n",
       "        vertical-align: top;\n",
       "    }\n",
       "\n",
       "    .dataframe thead th {\n",
       "        text-align: right;\n",
       "    }\n",
       "</style>\n",
       "<table border=\"1\" class=\"dataframe\">\n",
       "  <thead>\n",
       "    <tr style=\"text-align: right;\">\n",
       "      <th></th>\n",
       "      <th>PATIENT_ID</th>\n",
       "      <th>Age</th>\n",
       "      <th>Gender</th>\n",
       "      <th>Height</th>\n",
       "      <th>ICUType</th>\n",
       "      <th>BUN_Min</th>\n",
       "      <th>Creatinine_Min</th>\n",
       "      <th>GCS_Min</th>\n",
       "      <th>Glucose_Min</th>\n",
       "      <th>HCO3_Min</th>\n",
       "      <th>...</th>\n",
       "      <th>Na_Range</th>\n",
       "      <th>PaCO2_Range</th>\n",
       "      <th>PaO2_Range</th>\n",
       "      <th>Platelets_Range</th>\n",
       "      <th>Temp_Range</th>\n",
       "      <th>Urine_Range</th>\n",
       "      <th>WBC_Range</th>\n",
       "      <th>Weight_Range</th>\n",
       "      <th>pH_Range</th>\n",
       "      <th>In-hospital_death</th>\n",
       "    </tr>\n",
       "  </thead>\n",
       "  <tbody>\n",
       "    <tr>\n",
       "      <th>0</th>\n",
       "      <td>132539.0</td>\n",
       "      <td>54.0</td>\n",
       "      <td>0.0</td>\n",
       "      <td>-1.0</td>\n",
       "      <td>4.0</td>\n",
       "      <td>8.0</td>\n",
       "      <td>0.7</td>\n",
       "      <td>14.0</td>\n",
       "      <td>115.0</td>\n",
       "      <td>26.0</td>\n",
       "      <td>...</td>\n",
       "      <td>1.0</td>\n",
       "      <td>12.0</td>\n",
       "      <td>136.0</td>\n",
       "      <td>36.0</td>\n",
       "      <td>3.1</td>\n",
       "      <td>900.0</td>\n",
       "      <td>1.8</td>\n",
       "      <td>0.0</td>\n",
       "      <td>0.11</td>\n",
       "      <td>0</td>\n",
       "    </tr>\n",
       "    <tr>\n",
       "      <th>1</th>\n",
       "      <td>132540.0</td>\n",
       "      <td>76.0</td>\n",
       "      <td>1.0</td>\n",
       "      <td>175.3</td>\n",
       "      <td>2.0</td>\n",
       "      <td>16.0</td>\n",
       "      <td>0.8</td>\n",
       "      <td>3.0</td>\n",
       "      <td>105.0</td>\n",
       "      <td>21.0</td>\n",
       "      <td>...</td>\n",
       "      <td>4.0</td>\n",
       "      <td>13.0</td>\n",
       "      <td>363.0</td>\n",
       "      <td>91.0</td>\n",
       "      <td>3.4</td>\n",
       "      <td>770.0</td>\n",
       "      <td>5.9</td>\n",
       "      <td>5.6</td>\n",
       "      <td>0.11</td>\n",
       "      <td>0</td>\n",
       "    </tr>\n",
       "    <tr>\n",
       "      <th>2</th>\n",
       "      <td>132541.0</td>\n",
       "      <td>44.0</td>\n",
       "      <td>0.0</td>\n",
       "      <td>-1.0</td>\n",
       "      <td>3.0</td>\n",
       "      <td>3.0</td>\n",
       "      <td>0.3</td>\n",
       "      <td>5.0</td>\n",
       "      <td>119.0</td>\n",
       "      <td>24.0</td>\n",
       "      <td>...</td>\n",
       "      <td>3.0</td>\n",
       "      <td>4.0</td>\n",
       "      <td>167.0</td>\n",
       "      <td>41.0</td>\n",
       "      <td>2.3</td>\n",
       "      <td>407.0</td>\n",
       "      <td>2.5</td>\n",
       "      <td>0.0</td>\n",
       "      <td>0.04</td>\n",
       "      <td>0</td>\n",
       "    </tr>\n",
       "    <tr>\n",
       "      <th>3</th>\n",
       "      <td>132543.0</td>\n",
       "      <td>68.0</td>\n",
       "      <td>1.0</td>\n",
       "      <td>180.3</td>\n",
       "      <td>3.0</td>\n",
       "      <td>10.0</td>\n",
       "      <td>0.7</td>\n",
       "      <td>14.0</td>\n",
       "      <td>106.0</td>\n",
       "      <td>27.0</td>\n",
       "      <td>...</td>\n",
       "      <td>4.0</td>\n",
       "      <td>12.0</td>\n",
       "      <td>136.0</td>\n",
       "      <td>107.0</td>\n",
       "      <td>1.9</td>\n",
       "      <td>600.0</td>\n",
       "      <td>3.6</td>\n",
       "      <td>0.0</td>\n",
       "      <td>0.11</td>\n",
       "      <td>0</td>\n",
       "    </tr>\n",
       "    <tr>\n",
       "      <th>4</th>\n",
       "      <td>132545.0</td>\n",
       "      <td>88.0</td>\n",
       "      <td>0.0</td>\n",
       "      <td>-1.0</td>\n",
       "      <td>3.0</td>\n",
       "      <td>25.0</td>\n",
       "      <td>1.0</td>\n",
       "      <td>15.0</td>\n",
       "      <td>92.0</td>\n",
       "      <td>18.0</td>\n",
       "      <td>...</td>\n",
       "      <td>1.0</td>\n",
       "      <td>12.0</td>\n",
       "      <td>136.0</td>\n",
       "      <td>12.0</td>\n",
       "      <td>2.0</td>\n",
       "      <td>204.0</td>\n",
       "      <td>1.0</td>\n",
       "      <td>0.0</td>\n",
       "      <td>0.11</td>\n",
       "      <td>0</td>\n",
       "    </tr>\n",
       "  </tbody>\n",
       "</table>\n",
       "<p>5 rows × 111 columns</p>\n",
       "</div>"
      ],
      "text/plain": [
       "   PATIENT_ID   Age  Gender  Height  ICUType  BUN_Min  Creatinine_Min  \\\n",
       "0    132539.0  54.0     0.0    -1.0      4.0      8.0             0.7   \n",
       "1    132540.0  76.0     1.0   175.3      2.0     16.0             0.8   \n",
       "2    132541.0  44.0     0.0    -1.0      3.0      3.0             0.3   \n",
       "3    132543.0  68.0     1.0   180.3      3.0     10.0             0.7   \n",
       "4    132545.0  88.0     0.0    -1.0      3.0     25.0             1.0   \n",
       "\n",
       "   GCS_Min  Glucose_Min  HCO3_Min        ...          Na_Range  PaCO2_Range  \\\n",
       "0     14.0        115.0      26.0        ...               1.0         12.0   \n",
       "1      3.0        105.0      21.0        ...               4.0         13.0   \n",
       "2      5.0        119.0      24.0        ...               3.0          4.0   \n",
       "3     14.0        106.0      27.0        ...               4.0         12.0   \n",
       "4     15.0         92.0      18.0        ...               1.0         12.0   \n",
       "\n",
       "   PaO2_Range  Platelets_Range  Temp_Range  Urine_Range  WBC_Range  \\\n",
       "0       136.0             36.0         3.1        900.0        1.8   \n",
       "1       363.0             91.0         3.4        770.0        5.9   \n",
       "2       167.0             41.0         2.3        407.0        2.5   \n",
       "3       136.0            107.0         1.9        600.0        3.6   \n",
       "4       136.0             12.0         2.0        204.0        1.0   \n",
       "\n",
       "   Weight_Range  pH_Range  In-hospital_death  \n",
       "0           0.0      0.11                  0  \n",
       "1           5.6      0.11                  0  \n",
       "2           0.0      0.04                  0  \n",
       "3           0.0      0.11                  0  \n",
       "4           0.0      0.11                  0  \n",
       "\n",
       "[5 rows x 111 columns]"
      ]
     },
     "execution_count": 87,
     "metadata": {},
     "output_type": "execute_result"
    }
   ],
   "source": [
    "hospital_data.head(5)"
   ]
  },
  {
   "cell_type": "markdown",
   "metadata": {},
   "source": [
    "### How many patients have 20 or more missing feature values? "
   ]
  },
  {
   "cell_type": "code",
   "execution_count": 4,
   "metadata": {},
   "outputs": [
    {
     "name": "stdout",
     "output_type": "stream",
     "text": [
      "the number of patients have 20 or more missing feature values is  210\n"
     ]
    }
   ],
   "source": [
    "def find_missingVal_row_num(df,num_missing_val):\n",
    "    sum=0\n",
    "    lst_missingVal_num=df.isnull().sum(axis=1)\n",
    "    for i in lst_missingVal_num:\n",
    "        if i >=20:\n",
    "            sum+=1\n",
    "    return sum\n",
    "\n",
    "patinet_num_result=find_missingVal_row_num(hospital_data, 20)\n",
    "print(\"the number of patients have 20 or more missing feature values is \", patinet_num_result)"
   ]
  },
  {
   "cell_type": "markdown",
   "metadata": {},
   "source": [
    "### What’s the difference in means of HR_min for patients that died vs survived (not counting patients with HR_min of  0)?"
   ]
  },
  {
   "cell_type": "code",
   "execution_count": 5,
   "metadata": {},
   "outputs": [
    {
     "name": "stdout",
     "output_type": "stream",
     "text": [
      "The mean value of HR_Min(smallest heart rate in bpm) of patient in category 1(died in-hospital) is 1.009285477728099 larger than that of patinet in category 0(survivor)\n"
     ]
    }
   ],
   "source": [
    "def mean_diff(df, column_to_compare, column_to_groupBy):\n",
    "    sum_for_cat1=0\n",
    "    num_for_cat1=0\n",
    "    sum_for_cat0=0\n",
    "    num_for_cat0=0\n",
    "    for index, row in df.iterrows():\n",
    "        value= row[column_to_compare]\n",
    "        cat = row[column_to_groupBy]\n",
    "        if value != value:\n",
    "            continue\n",
    "        else:\n",
    "            if cat ==1:\n",
    "                sum_for_cat1 += value\n",
    "                num_for_cat1 +=1\n",
    "            if cat ==0:\n",
    "                sum_for_cat0 += value\n",
    "                num_for_cat0 +=1\n",
    "            else:\n",
    "                continue\n",
    "    cat1_avg = float(sum_for_cat1/num_for_cat1)\n",
    "    cat0_avg = float(sum_for_cat0/num_for_cat0)\n",
    "    \n",
    "    return cat1_avg-cat0_avg\n",
    "\n",
    "compare_result=mean_diff(hospital_data, \"HR_Min\", \"In-hospital_death\")\n",
    "\n",
    "print (\"The mean value of HR_Min(smallest heart rate in bpm) of patient in category 1(died in-hospital) is {} larger than that of patinet in category 0(survivor)\".format(compare_result))\n",
    "\n"
   ]
  },
  {
   "cell_type": "markdown",
   "metadata": {},
   "source": [
    "### What is the median maximum heart rate for patients whose maximum temperature was 2 degrees Celsius higher than their minimum temperature?"
   ]
  },
  {
   "cell_type": "code",
   "execution_count": 6,
   "metadata": {},
   "outputs": [
    {
     "name": "stdout",
     "output_type": "stream",
     "text": [
      "the median maximum heart rate for patients whose maximum temperature was 2 degrees Celsius higher than their minimum temperature is  113.0\n"
     ]
    }
   ],
   "source": [
    "## Your code here\n",
    "def find_median_HRMax(df):\n",
    "    HRMax_list=[]\n",
    "    for index, row in df.iterrows():\n",
    "        if row[\"Temp_Range\"]>2:\n",
    "            HRMax_list.append(row[\"HR_Max\"])\n",
    "            \n",
    "    return statistics.median(HRMax_list)\n",
    "\n",
    "median_result = find_median_HRMax(hospital_data)\n",
    "\n",
    "print(\"the median maximum heart rate for patients whose maximum temperature was 2 degrees Celsius higher than their minimum temperature is \", median_result )\n",
    "\n",
    "    \n",
    "    \n",
    "    "
   ]
  },
  {
   "cell_type": "markdown",
   "metadata": {},
   "source": [
    "### Create a plot to analyze the relationship between median temperature, outcome (died vs. survived), and age."
   ]
  },
  {
   "cell_type": "code",
   "execution_count": 8,
   "metadata": {},
   "outputs": [
    {
     "name": "stdout",
     "output_type": "stream",
     "text": [
      "[[ 1.         -0.20275796]\n",
      " [-0.20275796  1.        ]]\n"
     ]
    }
   ],
   "source": [
    "hospital_data=hospital_data.apply(lambda x: x.fillna(x.median()),axis=0)\n",
    "print( np.corrcoef((hospital_data['Age'], hospital_data['Temp_Median'])))"
   ]
  },
  {
   "cell_type": "code",
   "execution_count": 30,
   "metadata": {},
   "outputs": [
    {
     "data": {
      "image/png": "[encoded data removed]",
      "text/plain": [
       "<Figure size 432x288 with 1 Axes>"
      ]
     },
     "metadata": {
      "needs_background": "light"
     },
     "output_type": "display_data"
    }
   ],
   "source": [
    "## Your code here\n",
    "\n",
    "cat1=hospital_data[hospital_data['In-hospital_death'] == 1]\n",
    "\n",
    "cat0=hospital_data[hospital_data['In-hospital_death'] == 0]\n",
    "\n",
    "axes = plt.gca()\n",
    "axes.set_ylim([0,90])\n",
    "\n",
    "plt.scatter(cat1['Age'],cat1['Temp_Median'], color=['red'])\n",
    "plt.scatter(cat0['Age'],cat0['Temp_Median'], color=['blue'])\n",
    "\n",
    "plt.legend(['died in-hospital', 'survivor' ], loc='upper right')\n",
    "plt.xlabel('Age')\n",
    "plt.ylabel('Median of Temperature')\n",
    "plt.title('Scatter Chart of Median of Temperature and Age')\n",
    "\n",
    "plt.show()\n"
   ]
  },
  {
   "cell_type": "markdown",
   "metadata": {},
   "source": [
    "### Create a plot to analyze the relationship between median temperature, outcome (died vs. survived), and gender."
   ]
  },
  {
   "cell_type": "code",
   "execution_count": 37,
   "metadata": {},
   "outputs": [
    {
     "data": {
      "image/png": "[encoded data removed]",
      "text/plain": [
       "<Figure size 432x288 with 1 Axes>"
      ]
     },
     "metadata": {
      "needs_background": "light"
     },
     "output_type": "display_data"
    },
    {
     "name": "stdout",
     "output_type": "stream",
     "text": [
      "[36.9, 37.1] [36.85, 37.025]\n"
     ]
    }
   ],
   "source": [
    "## Your code here\n",
    "cat1_male=cat1[cat1['Gender']==1][\"Temp_Median\"].median()\n",
    "cat1_female=cat1[cat1['Gender']==0][\"Temp_Median\"].median()\n",
    "cat0_male=cat0[cat0['Gender']==1][\"Temp_Median\"].median()\n",
    "cat0_female=cat0[cat0['Gender']==0][\"Temp_Median\"].median()\n",
    "\n",
    "male = [cat1_male, cat0_male]\n",
    "female=[cat1_female, cat0_female]\n",
    "\n",
    "axes = plt.gca()\n",
    "axes.set_ylim([36,37.5])\n",
    "\n",
    "barWidth = 0.25\n",
    "\n",
    "r1 = np.arange(len(male))\n",
    "r2 = [x + barWidth for x in r1]\n",
    "\n",
    "\n",
    "plt.bar(r1, male, color='#7f6d5f', width=barWidth, edgecolor='white', label='female')\n",
    "plt.bar(r2, female, color='#557f2d', width=barWidth, edgecolor='white', label='male')\n",
    "\n",
    "plt.xlabel('In-hospital_death', fontweight='bold')\n",
    "plt.xticks([r + barWidth for r in range(len(male))], ['died in-hospital', 'survivor'])\n",
    "\n",
    "plt.legend()\n",
    "plt.show()\n",
    "\n",
    "print(male, female)"
   ]
  },
  {
   "cell_type": "markdown",
   "metadata": {},
   "source": [
    "### Build and summarize the results of a machine learning model that predicts whether a patient dies or survives in the hospital. (We do not expect a perfect or highest-accuracy solution; this is primarily an opportunity for you to show your machine learning project workflow and to document your thought process, approach to solving problems, and interpretation of results.)"
   ]
  },
  {
   "cell_type": "code",
   "execution_count": 75,
   "metadata": {},
   "outputs": [],
   "source": [
    "## Your code here\n",
    "X = hospital_data.loc[:, 'Age':'pH_Range']\n",
    "y = hospital_data['In-hospital_death']\n",
    "X_train, X_test, y_train, y_test = train_test_split(X, y, test_size=0.2, random_state=101)"
   ]
  },
  {
   "cell_type": "code",
   "execution_count": 79,
   "metadata": {},
   "outputs": [
    {
     "name": "stderr",
     "output_type": "stream",
     "text": [
      "[Parallel(n_jobs=-1)]: Using backend ThreadingBackend with 4 concurrent workers.\n"
     ]
    },
    {
     "name": "stdout",
     "output_type": "stream",
     "text": [
      "building tree 1 of 100building tree 2 of 100\n",
      "\n",
      "building tree 3 of 100\n",
      "building tree 4 of 100\n",
      "building tree 5 of 100\n",
      "building tree 6 of 100\n",
      "building tree 7 of 100\n",
      "building tree 8 of 100\n",
      "building tree 9 of 100\n",
      "building tree 10 of 100\n",
      "building tree 11 of 100\n",
      "building tree 12 of 100\n",
      "building tree 13 of 100\n",
      "building tree 14 of 100\n",
      "building tree 15 of 100\n",
      "building tree 16 of 100\n",
      "building tree 17 of 100\n",
      "building tree 18 of 100\n",
      "building tree 19 of 100\n",
      "building tree 20 of 100\n",
      "building tree 21 of 100\n",
      "building tree 22 of 100\n",
      "building tree 23 of 100\n",
      "building tree 24 of 100\n",
      "building tree 25 of 100\n",
      "building tree 26 of 100\n",
      "building tree 27 of 100\n",
      "building tree 28 of 100\n",
      "building tree 29 of 100\n"
     ]
    },
    {
     "name": "stderr",
     "output_type": "stream",
     "text": [
      "[Parallel(n_jobs=-1)]: Done  24 tasks      | elapsed:    1.1s\n"
     ]
    },
    {
     "name": "stdout",
     "output_type": "stream",
     "text": [
      "building tree 30 of 100\n",
      "building tree 31 of 100\n",
      "building tree 32 of 100\n",
      "building tree 33 of 100\n",
      "building tree 34 of 100\n",
      "building tree 35 of 100\n",
      "building tree 36 of 100\n",
      "building tree 37 of 100\n",
      "building tree 38 of 100\n",
      "building tree 39 of 100\n",
      "building tree 40 of 100\n",
      "building tree 41 of 100\n",
      "building tree 42 of 100\n",
      "building tree 43 of 100\n",
      "building tree 44 of 100\n",
      "building tree 45 of 100\n",
      "building tree 46 of 100\n",
      "building tree 47 of 100\n",
      "building tree 48 of 100\n",
      "building tree 49 of 100\n",
      "building tree 50 of 100\n",
      "building tree 51 of 100\n",
      "building tree 52 of 100\n",
      "building tree 53 of 100\n",
      "building tree 54 of 100\n",
      "building tree 55 of 100\n",
      "building tree 56 of 100\n",
      "building tree 57 of 100\n",
      "building tree 58 of 100\n",
      "building tree 59 of 100\n",
      "building tree 60 of 100\n",
      "building tree 61 of 100\n",
      "building tree 62 of 100\n",
      "building tree 63 of 100\n",
      "building tree 64 of 100\n",
      "building tree 65 of 100\n",
      "building tree 66 of 100\n",
      "building tree 67 of 100\n",
      "building tree 68 of 100\n",
      "building tree 69 of 100\n",
      "building tree 70 of 100\n",
      "building tree 71 of 100\n",
      "building tree 72 of 100\n",
      "building tree 73 of 100\n",
      "building tree 74 of 100\n",
      "building tree 75 of 100\n",
      "building tree 76 of 100\n",
      "building tree 77 of 100\n",
      "building tree 78 of 100\n",
      "building tree 79 of 100\n",
      "building tree 80 of 100\n",
      "building tree 81 of 100\n",
      "building tree 82 of 100\n",
      "building tree 83 of 100\n",
      "building tree 84 of 100\n",
      "building tree 85 of 100\n",
      "building tree 86 of 100\n",
      "building tree 87 of 100\n",
      "building tree 88 of 100\n",
      "building tree 89 of 100\n",
      "building tree 90 of 100\n",
      "building tree 91 of 100\n",
      "building tree 92 of 100\n",
      "building tree 93 of 100\n",
      "building tree 94 of 100\n",
      "building tree 95 of 100\n",
      "building tree 96 of 100\n",
      "building tree 97 of 100\n",
      "building tree 98 of 100\n",
      "building tree 99 of 100\n",
      "building tree 100 of 100\n",
      "0.87875\n"
     ]
    },
    {
     "name": "stderr",
     "output_type": "stream",
     "text": [
      "[Parallel(n_jobs=-1)]: Done 100 out of 100 | elapsed:    4.8s finished\n",
      "[Parallel(n_jobs=4)]: Using backend ThreadingBackend with 4 concurrent workers.\n",
      "[Parallel(n_jobs=4)]: Done  24 tasks      | elapsed:    0.0s\n",
      "[Parallel(n_jobs=4)]: Done 100 out of 100 | elapsed:    0.0s finished\n"
     ]
    }
   ],
   "source": [
    "model = RandomForestRegressor(n_estimators=100,n_jobs=-1,verbose=3, min_samples_leaf=5,oob_score=False,max_features=\"auto\",max_depth=30,min_samples_split=2,max_leaf_nodes=-1)\n",
    "model.fit(X_train,y_train)\n",
    "\n",
    "test_predict_result=model.predict(X_test)\n",
    "\n",
    "score = accuracy_score(y_test, test_predict_result.round())\n",
    "\n",
    "print(score)\n",
    "\n"
   ]
  }
 ],
 "metadata": {
  "kernelspec": {
   "display_name": "Python 3",
   "language": "python",
   "name": "python3"
  },
  "language_info": {
   "codemirror_mode": {
    "name": "ipython",
    "version": 3
   },
   "file_extension": ".py",
   "mimetype": "text/x-python",
   "name": "python",
   "nbconvert_exporter": "python",
   "pygments_lexer": "ipython3",
   "version": "3.7.2"
  }
 },
 "nbformat": 4,
 "nbformat_minor": 2
}
